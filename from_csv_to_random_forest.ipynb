{
 "cells": [
  {
   "cell_type": "code",
   "execution_count": 2,
   "metadata": {
    "collapsed": true
   },
   "outputs": [],
   "source": [
    "import pandas as pd\n",
    "import numpy as np"
   ]
  },
  {
   "cell_type": "code",
   "execution_count": 3,
   "metadata": {
    "collapsed": true
   },
   "outputs": [],
   "source": [
    "library = pd.read_csv('db_csvs/library.csv', sep=\"\\t\")"
   ]
  },
  {
   "cell_type": "code",
   "execution_count": 4,
   "metadata": {
    "collapsed": true
   },
   "outputs": [],
   "source": [
    "book_subjects = pd.read_csv('db_csvs/book_subjects.csv', sep=\"\\t\")\n",
    "\n",
    "common_subjects = pd.read_csv('db_csvs/most_used_subjects.csv', sep=\"\\t\")\n",
    "\n",
    "all_subjects = pd.read_csv('db_csvs/subjects.csv', sep=\"\\t\")\n",
    "all_subjects = all_subjects.drop('source', 1)\n"
   ]
  },
  {
   "cell_type": "markdown",
   "metadata": {},
   "source": [
    "# Create subject lists for each title"
   ]
  },
  {
   "cell_type": "code",
   "execution_count": 5,
   "metadata": {
    "collapsed": false
   },
   "outputs": [],
   "source": [
    "# merge subject names into book_subjects; drop uninteresting subjects\n",
    "book_subjects = book_subjects.merge(all_subjects, how='left', on='subject_id')\n",
    "\n",
    "delete_values = [\"protected daisy\", \"accessible book\", \"in library\", \"overdrive\", \"large type books\", 'ficci\\xc3\\xb3n juvenil', 'ficci\\xc3\\xb3n', 'lending library']\n",
    "book_subjects = book_subjects[~book_subjects['subject'].isin(delete_values)]\n"
   ]
  },
  {
   "cell_type": "code",
   "execution_count": 6,
   "metadata": {
    "collapsed": false
   },
   "outputs": [
    {
     "data": {
      "text/html": [
       "<div>\n",
       "<table border=\"1\" class=\"dataframe\">\n",
       "  <thead>\n",
       "    <tr style=\"text-align: right;\">\n",
       "      <th></th>\n",
       "      <th>booksubject_id</th>\n",
       "      <th>book_id</th>\n",
       "      <th>subject_id</th>\n",
       "      <th>subject</th>\n",
       "    </tr>\n",
       "  </thead>\n",
       "  <tbody>\n",
       "    <tr>\n",
       "      <th>52</th>\n",
       "      <td>53</td>\n",
       "      <td>8</td>\n",
       "      <td>5617</td>\n",
       "      <td>social life and customs</td>\n",
       "    </tr>\n",
       "    <tr>\n",
       "      <th>54</th>\n",
       "      <td>55</td>\n",
       "      <td>8</td>\n",
       "      <td>6228</td>\n",
       "      <td>industrial revolution</td>\n",
       "    </tr>\n",
       "    <tr>\n",
       "      <th>55</th>\n",
       "      <td>56</td>\n",
       "      <td>8</td>\n",
       "      <td>7143</td>\n",
       "      <td>problèmes sociaux</td>\n",
       "    </tr>\n",
       "    <tr>\n",
       "      <th>56</th>\n",
       "      <td>57</td>\n",
       "      <td>8</td>\n",
       "      <td>7144</td>\n",
       "      <td>conditions sociales</td>\n",
       "    </tr>\n",
       "    <tr>\n",
       "      <th>58</th>\n",
       "      <td>59</td>\n",
       "      <td>8</td>\n",
       "      <td>5691</td>\n",
       "      <td>married people</td>\n",
       "    </tr>\n",
       "    <tr>\n",
       "      <th>59</th>\n",
       "      <td>60</td>\n",
       "      <td>8</td>\n",
       "      <td>5495</td>\n",
       "      <td>fiction</td>\n",
       "    </tr>\n",
       "    <tr>\n",
       "      <th>60</th>\n",
       "      <td>61</td>\n",
       "      <td>8</td>\n",
       "      <td>5588</td>\n",
       "      <td>romans</td>\n",
       "    </tr>\n",
       "    <tr>\n",
       "      <th>61</th>\n",
       "      <td>62</td>\n",
       "      <td>8</td>\n",
       "      <td>7141</td>\n",
       "      <td>utilitarianism</td>\n",
       "    </tr>\n",
       "    <tr>\n",
       "      <th>62</th>\n",
       "      <td>63</td>\n",
       "      <td>8</td>\n",
       "      <td>5945</td>\n",
       "      <td>social problems</td>\n",
       "    </tr>\n",
       "    <tr>\n",
       "      <th>63</th>\n",
       "      <td>64</td>\n",
       "      <td>8</td>\n",
       "      <td>7145</td>\n",
       "      <td>mœurs et coutumes</td>\n",
       "    </tr>\n",
       "    <tr>\n",
       "      <th>65</th>\n",
       "      <td>66</td>\n",
       "      <td>8</td>\n",
       "      <td>5868</td>\n",
       "      <td>social conditions</td>\n",
       "    </tr>\n",
       "    <tr>\n",
       "      <th>67</th>\n",
       "      <td>68</td>\n",
       "      <td>8</td>\n",
       "      <td>7142</td>\n",
       "      <td>education</td>\n",
       "    </tr>\n",
       "  </tbody>\n",
       "</table>\n",
       "</div>"
      ],
      "text/plain": [
       "    booksubject_id  book_id  subject_id                  subject\n",
       "52              53        8        5617  social life and customs\n",
       "54              55        8        6228    industrial revolution\n",
       "55              56        8        7143        problèmes sociaux\n",
       "56              57        8        7144      conditions sociales\n",
       "58              59        8        5691           married people\n",
       "59              60        8        5495                  fiction\n",
       "60              61        8        5588                   romans\n",
       "61              62        8        7141           utilitarianism\n",
       "62              63        8        5945          social problems\n",
       "63              64        8        7145        mœurs et coutumes\n",
       "65              66        8        5868        social conditions\n",
       "67              68        8        7142                education"
      ]
     },
     "execution_count": 6,
     "metadata": {},
     "output_type": "execute_result"
    }
   ],
   "source": [
    "# group by book ids\n",
    "book_lists = book_subjects.groupby('book_id')\n",
    "book_lists.get_group(8)"
   ]
  },
  {
   "cell_type": "code",
   "execution_count": 7,
   "metadata": {
    "collapsed": false
   },
   "outputs": [],
   "source": [
    "books = book_subjects['book_id']\n",
    "books_with_subject_lists = {}\n",
    "for book_id in books:\n",
    "    subjects = []\n",
    "    for subj in book_lists.get_group(book_id)['subject']:\n",
    "        if books_with_subject_lists.get(book_id):\n",
    "            books_with_subject_lists[book_id].append(subj)\n",
    "        else:\n",
    "            books_with_subject_lists[book_id] = [subj]\n"
   ]
  },
  {
   "cell_type": "code",
   "execution_count": 9,
   "metadata": {
    "collapsed": false
   },
   "outputs": [
    {
     "data": {
      "text/html": [
       "<div>\n",
       "<table border=\"1\" class=\"dataframe\">\n",
       "  <thead>\n",
       "    <tr style=\"text-align: right;\">\n",
       "      <th></th>\n",
       "      <th>book_id</th>\n",
       "      <th>subjects</th>\n",
       "    </tr>\n",
       "  </thead>\n",
       "  <tbody>\n",
       "    <tr>\n",
       "      <th>0</th>\n",
       "      <td>1</td>\n",
       "      <td>[princes, narnia , juvenile fiction, fiction, ...</td>\n",
       "    </tr>\n",
       "    <tr>\n",
       "      <th>1</th>\n",
       "      <td>2</td>\n",
       "      <td>[united states civil war, scarlett o'hara , po...</td>\n",
       "    </tr>\n",
       "    <tr>\n",
       "      <th>2</th>\n",
       "      <td>3</td>\n",
       "      <td>[magic, juvenile fiction, fiction, coming of a...</td>\n",
       "    </tr>\n",
       "    <tr>\n",
       "      <th>3</th>\n",
       "      <td>5</td>\n",
       "      <td>[married women, fiction, married women, fiction]</td>\n",
       "    </tr>\n",
       "    <tr>\n",
       "      <th>4</th>\n",
       "      <td>7</td>\n",
       "      <td>[data encryption , literature, cryptography, f...</td>\n",
       "    </tr>\n",
       "  </tbody>\n",
       "</table>\n",
       "</div>"
      ],
      "text/plain": [
       "   book_id                                           subjects\n",
       "0        1  [princes, narnia , juvenile fiction, fiction, ...\n",
       "1        2  [united states civil war, scarlett o'hara , po...\n",
       "2        3  [magic, juvenile fiction, fiction, coming of a...\n",
       "3        5   [married women, fiction, married women, fiction]\n",
       "4        7  [data encryption , literature, cryptography, f..."
      ]
     },
     "execution_count": 9,
     "metadata": {},
     "output_type": "execute_result"
    }
   ],
   "source": [
    "books_with_subjects = pd.DataFrame(books_with_subject_lists.items())\n",
    "books_with_subjects.columns = ['book_id', 'subjects']\n",
    "books_with_subjects.head()"
   ]
  },
  {
   "cell_type": "markdown",
   "metadata": {},
   "source": [
    "## Get ratings for each book in library for this user"
   ]
  },
  {
   "cell_type": "code",
   "execution_count": 10,
   "metadata": {
    "collapsed": true
   },
   "outputs": [],
   "source": [
    "user_ratings = pd.read_csv('db_csvs/user_books.csv', sep='\\t')\n",
    "library = library.merge(user_ratings, how='left', on='book_id')"
   ]
  },
  {
   "cell_type": "code",
   "execution_count": 11,
   "metadata": {
    "collapsed": false
   },
   "outputs": [],
   "source": [
    "titles_df = library.drop(['openlib_bid', 'google_bid', 'img_url', 'goodreads_url', 'get_subjects', 'preview', 'isbn', 'goodreads_bid', 'gr_shelf_id', \"source\"], 1)"
   ]
  },
  {
   "cell_type": "code",
   "execution_count": 12,
   "metadata": {
    "collapsed": false
   },
   "outputs": [
    {
     "name": "stdout",
     "output_type": "stream",
     "text": [
      "<class 'pandas.core.frame.DataFrame'>\n",
      "Int64Index: 1568 entries, 0 to 1567\n",
      "Data columns (total 13 columns):\n",
      "book_id              1568 non-null int64\n",
      "title                1568 non-null object\n",
      "author               1568 non-null object\n",
      "pub_year             1461 non-null float64\n",
      "original_pub_year    1559 non-null float64\n",
      "pages                1500 non-null float64\n",
      "publisher            1462 non-null object\n",
      "language             1199 non-null object\n",
      "userbook_id          356 non-null float64\n",
      "user_id              356 non-null float64\n",
      "gr_shelf_name        356 non-null object\n",
      "status               356 non-null object\n",
      "rating               356 non-null float64\n",
      "dtypes: float64(6), int64(1), object(6)\n",
      "memory usage: 171.5+ KB\n"
     ]
    }
   ],
   "source": [
    "titles_df.info()"
   ]
  },
  {
   "cell_type": "markdown",
   "metadata": {},
   "source": [
    "# Get common subjects as columns in library DF"
   ]
  },
  {
   "cell_type": "code",
   "execution_count": 13,
   "metadata": {
    "collapsed": true
   },
   "outputs": [],
   "source": [
    "# merge subject lists into library as single column\n",
    "book_attributes = titles_df.merge(books_with_subjects, how='left', on='book_id')"
   ]
  },
  {
   "cell_type": "code",
   "execution_count": 14,
   "metadata": {
    "collapsed": false
   },
   "outputs": [],
   "source": [
    "# Clean deleted subjects out of common_subjects DF\n",
    "delete_values = [\"protected daisy\", \"accessible book\", \"in library\", \"overdrive\", \"large type books\", 'ficci\\xc3\\xb3n juvenil', 'ficci\\xc3\\xb3n', 'lending library']\n",
    "common_subjects = common_subjects[~common_subjects['subject'].isin(delete_values)]"
   ]
  },
  {
   "cell_type": "code",
   "execution_count": 15,
   "metadata": {
    "collapsed": false
   },
   "outputs": [],
   "source": [
    "subj_columns = list(common_subjects['subject'])"
   ]
  },
  {
   "cell_type": "code",
   "execution_count": 16,
   "metadata": {
    "collapsed": false
   },
   "outputs": [],
   "source": [
    "book_attributes['subjects'] = book_attributes['subjects'].fillna(\"\")"
   ]
  },
  {
   "cell_type": "code",
   "execution_count": 17,
   "metadata": {
    "collapsed": true
   },
   "outputs": [],
   "source": [
    "for subject in subj_columns:\n",
    "    subj_col = []\n",
    "    for x in book_attributes['subjects']:\n",
    "        if subject in x:\n",
    "            subj_col.append(1)\n",
    "        else:\n",
    "            subj_col.append(0)\n",
    "    book_attributes[subject] = subj_col"
   ]
  },
  {
   "cell_type": "code",
   "execution_count": 18,
   "metadata": {
    "collapsed": false
   },
   "outputs": [
    {
     "data": {
      "text/html": [
       "<div>\n",
       "<table border=\"1\" class=\"dataframe\">\n",
       "  <thead>\n",
       "    <tr style=\"text-align: right;\">\n",
       "      <th></th>\n",
       "      <th>book_id</th>\n",
       "      <th>title</th>\n",
       "      <th>author</th>\n",
       "      <th>pub_year</th>\n",
       "      <th>original_pub_year</th>\n",
       "      <th>pages</th>\n",
       "      <th>publisher</th>\n",
       "      <th>language</th>\n",
       "      <th>userbook_id</th>\n",
       "      <th>user_id</th>\n",
       "      <th>...</th>\n",
       "      <th>clergy</th>\n",
       "      <th>mothers and daughters</th>\n",
       "      <th>german fiction</th>\n",
       "      <th>artists</th>\n",
       "      <th>english literature</th>\n",
       "      <th>books and reading</th>\n",
       "      <th>united states</th>\n",
       "      <th>authorship</th>\n",
       "      <th>criminals</th>\n",
       "      <th>mystery</th>\n",
       "    </tr>\n",
       "  </thead>\n",
       "  <tbody>\n",
       "    <tr>\n",
       "      <th>0</th>\n",
       "      <td>771</td>\n",
       "      <td>Dirk Gently’s Holistic Detective Agency</td>\n",
       "      <td>Douglas Adams</td>\n",
       "      <td>1991</td>\n",
       "      <td>1987</td>\n",
       "      <td>306</td>\n",
       "      <td>Pocket Books</td>\n",
       "      <td>eng</td>\n",
       "      <td>NaN</td>\n",
       "      <td>NaN</td>\n",
       "      <td>...</td>\n",
       "      <td>0</td>\n",
       "      <td>0</td>\n",
       "      <td>0</td>\n",
       "      <td>0</td>\n",
       "      <td>0</td>\n",
       "      <td>0</td>\n",
       "      <td>0</td>\n",
       "      <td>0</td>\n",
       "      <td>0</td>\n",
       "      <td>0</td>\n",
       "    </tr>\n",
       "    <tr>\n",
       "      <th>1</th>\n",
       "      <td>772</td>\n",
       "      <td>The Long Dark Teatime of the Soul</td>\n",
       "      <td>Douglas Adams</td>\n",
       "      <td>1991</td>\n",
       "      <td>1988</td>\n",
       "      <td>307</td>\n",
       "      <td>Pocket Books</td>\n",
       "      <td>en-US</td>\n",
       "      <td>NaN</td>\n",
       "      <td>NaN</td>\n",
       "      <td>...</td>\n",
       "      <td>0</td>\n",
       "      <td>0</td>\n",
       "      <td>0</td>\n",
       "      <td>0</td>\n",
       "      <td>0</td>\n",
       "      <td>0</td>\n",
       "      <td>0</td>\n",
       "      <td>0</td>\n",
       "      <td>0</td>\n",
       "      <td>0</td>\n",
       "    </tr>\n",
       "    <tr>\n",
       "      <th>2</th>\n",
       "      <td>773</td>\n",
       "      <td>Aesop’s Fables</td>\n",
       "      <td>Aesop</td>\n",
       "      <td>2003</td>\n",
       "      <td>-560</td>\n",
       "      <td>306</td>\n",
       "      <td>Oxford University Press</td>\n",
       "      <td>eng</td>\n",
       "      <td>NaN</td>\n",
       "      <td>NaN</td>\n",
       "      <td>...</td>\n",
       "      <td>0</td>\n",
       "      <td>0</td>\n",
       "      <td>0</td>\n",
       "      <td>0</td>\n",
       "      <td>0</td>\n",
       "      <td>0</td>\n",
       "      <td>0</td>\n",
       "      <td>0</td>\n",
       "      <td>0</td>\n",
       "      <td>0</td>\n",
       "    </tr>\n",
       "    <tr>\n",
       "      <th>3</th>\n",
       "      <td>774</td>\n",
       "      <td>Novel With Cocaine</td>\n",
       "      <td>M. Ageyev</td>\n",
       "      <td>1998</td>\n",
       "      <td>1934</td>\n",
       "      <td>204</td>\n",
       "      <td>Northwestern University Press</td>\n",
       "      <td>eng</td>\n",
       "      <td>NaN</td>\n",
       "      <td>NaN</td>\n",
       "      <td>...</td>\n",
       "      <td>0</td>\n",
       "      <td>0</td>\n",
       "      <td>0</td>\n",
       "      <td>0</td>\n",
       "      <td>0</td>\n",
       "      <td>0</td>\n",
       "      <td>0</td>\n",
       "      <td>0</td>\n",
       "      <td>0</td>\n",
       "      <td>0</td>\n",
       "    </tr>\n",
       "    <tr>\n",
       "      <th>4</th>\n",
       "      <td>775</td>\n",
       "      <td>In The Heart of the Seas</td>\n",
       "      <td>Nathaniel Philbrick</td>\n",
       "      <td>2001</td>\n",
       "      <td>1999</td>\n",
       "      <td>238</td>\n",
       "      <td>Penguin Books</td>\n",
       "      <td>en-US</td>\n",
       "      <td>NaN</td>\n",
       "      <td>NaN</td>\n",
       "      <td>...</td>\n",
       "      <td>0</td>\n",
       "      <td>0</td>\n",
       "      <td>0</td>\n",
       "      <td>0</td>\n",
       "      <td>0</td>\n",
       "      <td>0</td>\n",
       "      <td>0</td>\n",
       "      <td>0</td>\n",
       "      <td>0</td>\n",
       "      <td>0</td>\n",
       "    </tr>\n",
       "  </tbody>\n",
       "</table>\n",
       "<p>5 rows × 108 columns</p>\n",
       "</div>"
      ],
      "text/plain": [
       "   book_id                                    title               author  \\\n",
       "0      771  Dirk Gently’s Holistic Detective Agency        Douglas Adams   \n",
       "1      772        The Long Dark Teatime of the Soul        Douglas Adams   \n",
       "2      773                           Aesop’s Fables                Aesop   \n",
       "3      774                       Novel With Cocaine            M. Ageyev   \n",
       "4      775                 In The Heart of the Seas  Nathaniel Philbrick   \n",
       "\n",
       "   pub_year  original_pub_year  pages                      publisher language  \\\n",
       "0      1991               1987    306                   Pocket Books      eng   \n",
       "1      1991               1988    307                   Pocket Books    en-US   \n",
       "2      2003               -560    306        Oxford University Press      eng   \n",
       "3      1998               1934    204  Northwestern University Press      eng   \n",
       "4      2001               1999    238                  Penguin Books    en-US   \n",
       "\n",
       "   userbook_id  user_id   ...    clergy mothers and daughters  german fiction  \\\n",
       "0          NaN      NaN   ...         0                     0               0   \n",
       "1          NaN      NaN   ...         0                     0               0   \n",
       "2          NaN      NaN   ...         0                     0               0   \n",
       "3          NaN      NaN   ...         0                     0               0   \n",
       "4          NaN      NaN   ...         0                     0               0   \n",
       "\n",
       "  artists  english literature  books and reading  united states  authorship  \\\n",
       "0       0                   0                  0              0           0   \n",
       "1       0                   0                  0              0           0   \n",
       "2       0                   0                  0              0           0   \n",
       "3       0                   0                  0              0           0   \n",
       "4       0                   0                  0              0           0   \n",
       "\n",
       "   criminals  mystery  \n",
       "0          0        0  \n",
       "1          0        0  \n",
       "2          0        0  \n",
       "3          0        0  \n",
       "4          0        0  \n",
       "\n",
       "[5 rows x 108 columns]"
      ]
     },
     "execution_count": 18,
     "metadata": {},
     "output_type": "execute_result"
    }
   ],
   "source": [
    "book_attributes.head()"
   ]
  },
  {
   "cell_type": "markdown",
   "metadata": {},
   "source": [
    "## Turn publication years into usable data"
   ]
  },
  {
   "cell_type": "code",
   "execution_count": 20,
   "metadata": {
    "collapsed": false
   },
   "outputs": [],
   "source": [
    "original_pub_buckets = []\n",
    "for item in book_attributes['original_pub_year']:\n",
    "    if item > 1950:\n",
    "        original_pub_buckets.append('1950+')\n",
    "    elif item > 1900:\n",
    "        original_pub_buckets.append('1901-50')\n",
    "    elif item > 1850:\n",
    "        original_pub_buckets.append('1851-1900')\n",
    "    elif item > 1800:\n",
    "        original_pub_buckets.append('1851-1900')      \n",
    "    elif item > 1700:\n",
    "        original_pub_buckets.append('1701-1800')      \n",
    "    elif item > 1500:\n",
    "        original_pub_buckets.append('1501-1700')  \n",
    "    else:\n",
    "        original_pub_buckets.append('Unknown')    \n",
    "book_attributes.insert(loc=5, column='orig_pub_year_cat', value=original_pub_buckets)"
   ]
  },
  {
   "cell_type": "code",
   "execution_count": 49,
   "metadata": {
    "collapsed": false
   },
   "outputs": [],
   "source": [
    "pub_buckets = []\n",
    "for item in book_attributes['pub_year']:\n",
    "    if item > 1950:\n",
    "        pub_buckets.append('1950+')\n",
    "    elif item > 1900:\n",
    "        pub_buckets.append('1901-50')\n",
    "    elif item > 1850:\n",
    "        pub_buckets.append('1851-1900')\n",
    "    elif item > 1800:\n",
    "        pub_buckets.append('1851-1900')      \n",
    "    elif item > 1700:\n",
    "        pub_buckets.append('1701-1800')      \n",
    "    elif item > 1500:\n",
    "        pub_buckets.append('1501-1700')  \n",
    "    else:\n",
    "        pub_buckets.append('Unknown')   \n",
    "book_attributes.insert(loc=5, column='pub_year_cat', value=pub_buckets)\n"
   ]
  },
  {
   "cell_type": "code",
   "execution_count": 55,
   "metadata": {
    "collapsed": false
   },
   "outputs": [],
   "source": [
    "#get dummies for pub_year_cat and orig_pub_year_cat\n",
    "pub_year_cat_dummies = pd.get_dummies(book_attributes['pub_year_cat'])\n",
    "orig_year_dummies = pd.get_dummies(book_attributes['orig_pub_year_cat'])"
   ]
  },
  {
   "cell_type": "code",
   "execution_count": 59,
   "metadata": {
    "collapsed": false
   },
   "outputs": [],
   "source": [
    "book_full_attr = book_attributes.merge(pub_year_cat_dummies,left_index=True, right_index=True)"
   ]
  },
  {
   "cell_type": "code",
   "execution_count": 66,
   "metadata": {
    "collapsed": false
   },
   "outputs": [],
   "source": [
    "book_full_attr = book_full_attr.merge(orig_year_dummies,left_index=True, right_index=True)"
   ]
  },
  {
   "cell_type": "code",
   "execution_count": 69,
   "metadata": {
    "collapsed": false
   },
   "outputs": [
    {
     "data": {
      "text/plain": [
       "Index([u'book_id', u'title', u'author', u'pub_year', u'original_pub_year',\n",
       "       u'pub_year_cat', u'orig_pub_year_cat', u'pages', u'publisher',\n",
       "       u'language',\n",
       "       ...\n",
       "       u'mystery', u'1901-50_x', u'1950+_x', u'Unknown_x', u'1501-1700',\n",
       "       u'1701-1800', u'1851-1900', u'1901-50_y', u'1950+_y', u'Unknown_y'],\n",
       "      dtype='object', length=119)"
      ]
     },
     "execution_count": 69,
     "metadata": {},
     "output_type": "execute_result"
    }
   ],
   "source": [
    "book_full_attr.columns"
   ]
  },
  {
   "cell_type": "code",
   "execution_count": 71,
   "metadata": {
    "collapsed": false
   },
   "outputs": [],
   "source": [
    "book_full_attr = book_full_attr.drop(['title', 'author', 'pub_year', 'original_pub_year', 'pub_year_cat', 'orig_pub_year_cat', 'publisher', 'language'], 1)\n",
    "book_full_attr = book_full_attr.drop(['userbook_id', 'user_id', 'gr_shelf_name'], 1)"
   ]
  },
  {
   "cell_type": "code",
   "execution_count": 74,
   "metadata": {
    "collapsed": false
   },
   "outputs": [
    {
     "data": {
      "text/plain": [
       "Index([u'book_id', u'pages', u'status', u'rating', u'subjects', u'fiction',\n",
       "       u'history', u'classic literature', u'social life and customs',\n",
       "       u'literature',\n",
       "       ...\n",
       "       u'mystery', u'1901-50_x', u'1950+_x', u'Unknown_x', u'1501-1700',\n",
       "       u'1701-1800', u'1851-1900', u'1901-50_y', u'1950+_y', u'Unknown_y'],\n",
       "      dtype='object', length=108)"
      ]
     },
     "execution_count": 74,
     "metadata": {},
     "output_type": "execute_result"
    }
   ],
   "source": [
    "book_full_attr.columns"
   ]
  },
  {
   "cell_type": "code",
   "execution_count": 76,
   "metadata": {
    "collapsed": false
   },
   "outputs": [
    {
     "data": {
      "text/plain": [
       "1568"
      ]
     },
     "execution_count": 76,
     "metadata": {},
     "output_type": "execute_result"
    }
   ],
   "source": [
    "rating_list = book_full_attr['rating']\n",
    "len(rating_list)"
   ]
  },
  {
   "cell_type": "code",
   "execution_count": 77,
   "metadata": {
    "collapsed": true
   },
   "outputs": [],
   "source": [
    "book_full_attr = book_full_attr.drop('rating', 1)"
   ]
  },
  {
   "cell_type": "code",
   "execution_count": 78,
   "metadata": {
    "collapsed": true
   },
   "outputs": [],
   "source": [
    "book_full_attr.insert(loc=0, column='ratings', value=rating_list)"
   ]
  },
  {
   "cell_type": "code",
   "execution_count": 87,
   "metadata": {
    "collapsed": false
   },
   "outputs": [],
   "source": [
    "train = book_full_attr[np.isfinite(book_full_attr['ratings'])]"
   ]
  },
  {
   "cell_type": "code",
   "execution_count": 90,
   "metadata": {
    "collapsed": false
   },
   "outputs": [],
   "source": [
    "train.reset_index(inplace=True)"
   ]
  },
  {
   "cell_type": "code",
   "execution_count": null,
   "metadata": {
    "collapsed": true
   },
   "outputs": [],
   "source": [
    "train = train.drop('subjects', 1)"
   ]
  },
  {
   "cell_type": "code",
   "execution_count": 105,
   "metadata": {
    "collapsed": false
   },
   "outputs": [],
   "source": [
    "unrated = train[train.ratings == 0]"
   ]
  },
  {
   "cell_type": "code",
   "execution_count": 113,
   "metadata": {
    "collapsed": false
   },
   "outputs": [],
   "source": [
    "rated = train[train.ratings != 0]"
   ]
  },
  {
   "cell_type": "code",
   "execution_count": 114,
   "metadata": {
    "collapsed": false
   },
   "outputs": [
    {
     "data": {
      "text/html": [
       "<div>\n",
       "<table border=\"1\" class=\"dataframe\">\n",
       "  <thead>\n",
       "    <tr style=\"text-align: right;\">\n",
       "      <th></th>\n",
       "      <th>index</th>\n",
       "      <th>ratings</th>\n",
       "      <th>book_id</th>\n",
       "      <th>pages</th>\n",
       "      <th>status</th>\n",
       "      <th>fiction</th>\n",
       "      <th>history</th>\n",
       "      <th>classic literature</th>\n",
       "      <th>social life and customs</th>\n",
       "      <th>literature</th>\n",
       "      <th>...</th>\n",
       "      <th>mystery</th>\n",
       "      <th>1901-50_x</th>\n",
       "      <th>1950+_x</th>\n",
       "      <th>Unknown_x</th>\n",
       "      <th>1501-1700</th>\n",
       "      <th>1701-1800</th>\n",
       "      <th>1851-1900</th>\n",
       "      <th>1901-50_y</th>\n",
       "      <th>1950+_y</th>\n",
       "      <th>Unknown_y</th>\n",
       "    </tr>\n",
       "  </thead>\n",
       "  <tbody>\n",
       "    <tr>\n",
       "      <th>0</th>\n",
       "      <td>28</td>\n",
       "      <td>2</td>\n",
       "      <td>12</td>\n",
       "      <td>NaN</td>\n",
       "      <td>read</td>\n",
       "      <td>0</td>\n",
       "      <td>0</td>\n",
       "      <td>0</td>\n",
       "      <td>0</td>\n",
       "      <td>0</td>\n",
       "      <td>...</td>\n",
       "      <td>0</td>\n",
       "      <td>0</td>\n",
       "      <td>0</td>\n",
       "      <td>1</td>\n",
       "      <td>0</td>\n",
       "      <td>0</td>\n",
       "      <td>0</td>\n",
       "      <td>0</td>\n",
       "      <td>1</td>\n",
       "      <td>0</td>\n",
       "    </tr>\n",
       "    <tr>\n",
       "      <th>1</th>\n",
       "      <td>29</td>\n",
       "      <td>4</td>\n",
       "      <td>15</td>\n",
       "      <td>320</td>\n",
       "      <td>read</td>\n",
       "      <td>1</td>\n",
       "      <td>0</td>\n",
       "      <td>0</td>\n",
       "      <td>0</td>\n",
       "      <td>0</td>\n",
       "      <td>...</td>\n",
       "      <td>0</td>\n",
       "      <td>0</td>\n",
       "      <td>1</td>\n",
       "      <td>0</td>\n",
       "      <td>0</td>\n",
       "      <td>0</td>\n",
       "      <td>0</td>\n",
       "      <td>0</td>\n",
       "      <td>1</td>\n",
       "      <td>0</td>\n",
       "    </tr>\n",
       "    <tr>\n",
       "      <th>2</th>\n",
       "      <td>52</td>\n",
       "      <td>2</td>\n",
       "      <td>16</td>\n",
       "      <td>384</td>\n",
       "      <td>read</td>\n",
       "      <td>1</td>\n",
       "      <td>0</td>\n",
       "      <td>1</td>\n",
       "      <td>1</td>\n",
       "      <td>0</td>\n",
       "      <td>...</td>\n",
       "      <td>0</td>\n",
       "      <td>0</td>\n",
       "      <td>1</td>\n",
       "      <td>0</td>\n",
       "      <td>0</td>\n",
       "      <td>0</td>\n",
       "      <td>1</td>\n",
       "      <td>0</td>\n",
       "      <td>0</td>\n",
       "      <td>0</td>\n",
       "    </tr>\n",
       "    <tr>\n",
       "      <th>3</th>\n",
       "      <td>53</td>\n",
       "      <td>3</td>\n",
       "      <td>17</td>\n",
       "      <td>256</td>\n",
       "      <td>read</td>\n",
       "      <td>1</td>\n",
       "      <td>0</td>\n",
       "      <td>0</td>\n",
       "      <td>0</td>\n",
       "      <td>0</td>\n",
       "      <td>...</td>\n",
       "      <td>0</td>\n",
       "      <td>0</td>\n",
       "      <td>1</td>\n",
       "      <td>0</td>\n",
       "      <td>0</td>\n",
       "      <td>0</td>\n",
       "      <td>0</td>\n",
       "      <td>0</td>\n",
       "      <td>1</td>\n",
       "      <td>0</td>\n",
       "    </tr>\n",
       "    <tr>\n",
       "      <th>4</th>\n",
       "      <td>54</td>\n",
       "      <td>2</td>\n",
       "      <td>18</td>\n",
       "      <td>209</td>\n",
       "      <td>read</td>\n",
       "      <td>1</td>\n",
       "      <td>0</td>\n",
       "      <td>0</td>\n",
       "      <td>1</td>\n",
       "      <td>0</td>\n",
       "      <td>...</td>\n",
       "      <td>0</td>\n",
       "      <td>0</td>\n",
       "      <td>1</td>\n",
       "      <td>0</td>\n",
       "      <td>0</td>\n",
       "      <td>0</td>\n",
       "      <td>0</td>\n",
       "      <td>0</td>\n",
       "      <td>1</td>\n",
       "      <td>0</td>\n",
       "    </tr>\n",
       "  </tbody>\n",
       "</table>\n",
       "<p>5 rows × 108 columns</p>\n",
       "</div>"
      ],
      "text/plain": [
       "   index  ratings  book_id  pages status  fiction  history  \\\n",
       "0     28        2       12    NaN   read        0        0   \n",
       "1     29        4       15    320   read        1        0   \n",
       "2     52        2       16    384   read        1        0   \n",
       "3     53        3       17    256   read        1        0   \n",
       "4     54        2       18    209   read        1        0   \n",
       "\n",
       "   classic literature  social life and customs  literature    ...      \\\n",
       "0                   0                        0           0    ...       \n",
       "1                   0                        0           0    ...       \n",
       "2                   1                        1           0    ...       \n",
       "3                   0                        0           0    ...       \n",
       "4                   0                        1           0    ...       \n",
       "\n",
       "   mystery  1901-50_x  1950+_x  Unknown_x  1501-1700  1701-1800  1851-1900  \\\n",
       "0        0          0        0          1          0          0          0   \n",
       "1        0          0        1          0          0          0          0   \n",
       "2        0          0        1          0          0          0          1   \n",
       "3        0          0        1          0          0          0          0   \n",
       "4        0          0        1          0          0          0          0   \n",
       "\n",
       "   1901-50_y  1950+_y  Unknown_y  \n",
       "0          0        1          0  \n",
       "1          0        1          0  \n",
       "2          0        0          0  \n",
       "3          0        1          0  \n",
       "4          0        1          0  \n",
       "\n",
       "[5 rows x 108 columns]"
      ]
     },
     "execution_count": 114,
     "metadata": {},
     "output_type": "execute_result"
    }
   ],
   "source": [
    "rated.head()"
   ]
  },
  {
   "cell_type": "code",
   "execution_count": 116,
   "metadata": {
    "collapsed": false
   },
   "outputs": [],
   "source": [
    "rated_ratings = rated['ratings']\n",
    "rated = rated.drop(['ratings', 'status', 'index'], 1)"
   ]
  },
  {
   "cell_type": "code",
   "execution_count": 117,
   "metadata": {
    "collapsed": true
   },
   "outputs": [],
   "source": [
    "rated.insert(loc=0, column='ratings', value=rated_ratings)"
   ]
  },
  {
   "cell_type": "markdown",
   "metadata": {},
   "source": [
    "## Random Forest"
   ]
  },
  {
   "cell_type": "code",
   "execution_count": 94,
   "metadata": {
    "collapsed": true
   },
   "outputs": [],
   "source": [
    "from sklearn.ensemble import RandomForestClassifier\n",
    "from sklearn.cross_validation import KFold\n",
    "from sklearn.metrics import confusion_matrix\n",
    "import random"
   ]
  },
  {
   "cell_type": "code",
   "execution_count": 95,
   "metadata": {
    "collapsed": true
   },
   "outputs": [],
   "source": [
    "%matplotlib inline\n",
    "from matplotlib import pylab, pyplot  # plotting"
   ]
  },
  {
   "cell_type": "code",
   "execution_count": 185,
   "metadata": {
    "collapsed": false
   },
   "outputs": [],
   "source": [
    "rows = random.sample(rated.index, 209)\n",
    "rated_train = rated.ix[rows[:160]]\n",
    "rated_validate = rated.ix[rows[160:]]"
   ]
  },
  {
   "cell_type": "code",
   "execution_count": 186,
   "metadata": {
    "collapsed": false
   },
   "outputs": [],
   "source": [
    "rated_train['pages'].fillna(0, inplace=True)\n",
    "rated_validate['pages'].fillna(0, inplace=True)\n",
    "actuals = rated_validate['ratings']"
   ]
  },
  {
   "cell_type": "code",
   "execution_count": 279,
   "metadata": {
    "collapsed": true
   },
   "outputs": [],
   "source": [
    "# translate specific ratings into recommend/do not recommend\n",
    "def rating_categories(rating_list):\n",
    "    ratings = []\n",
    "    for x in rating_list:\n",
    "        if x > 3:\n",
    "            ratings.append(1)\n",
    "        else:\n",
    "            ratings.append(-1)\n",
    "    return ratings"
   ]
  },
  {
   "cell_type": "code",
   "execution_count": 280,
   "metadata": {
    "collapsed": false
   },
   "outputs": [],
   "source": [
    "# translate actual ratings to recommend/do not recommend\n",
    "actual_ratings = rating_categories(actuals)"
   ]
  },
  {
   "cell_type": "code",
   "execution_count": 281,
   "metadata": {
    "collapsed": false
   },
   "outputs": [
    {
     "data": {
      "text/plain": [
       "RandomForestClassifier(bootstrap=True, class_weight=None, criterion='gini',\n",
       "            max_depth=None, max_features='auto', max_leaf_nodes=None,\n",
       "            min_samples_leaf=1, min_samples_split=2,\n",
       "            min_weight_fraction_leaf=0.0, n_estimators=50, n_jobs=1,\n",
       "            oob_score=False, random_state=None, verbose=0,\n",
       "            warm_start=False)"
      ]
     },
     "execution_count": 281,
     "metadata": {},
     "output_type": "execute_result"
    }
   ],
   "source": [
    "# instantiate RF classifier; train on rated training data\n",
    "rf = RandomForestClassifier(n_estimators=50)\n",
    "rf.fit(rated_train.iloc[:,2:], rated_train.iloc[:, 0])"
   ]
  },
  {
   "cell_type": "code",
   "execution_count": 282,
   "metadata": {
    "collapsed": false
   },
   "outputs": [],
   "source": [
    "# get predictions & translate to recommend/do not recommend categories\n",
    "rf_predictions = rf.predict(rated_validate.iloc[:,2:])\n",
    "rf_predicted_ratings = rating_categories(rf_predictions)"
   ]
  },
  {
   "cell_type": "code",
   "execution_count": null,
   "metadata": {
    "collapsed": false
   },
   "outputs": [],
   "source": []
  },
  {
   "cell_type": "code",
   "execution_count": 283,
   "metadata": {
    "collapsed": false
   },
   "outputs": [],
   "source": [
    "# accuracy calculation for algorithm comparison\n",
    "def calculate_accuracy(validation_ratings, predicted_ratings):\n",
    "    got = 0\n",
    "    for x,y in zip(validation_ratings, predicted_ratings):\n",
    "        if x==y:\n",
    "            got +=1\n",
    "    accuracy = got/float(len(validation_ratings))\n",
    "    return accuracy"
   ]
  },
  {
   "cell_type": "code",
   "execution_count": 284,
   "metadata": {
    "collapsed": false
   },
   "outputs": [
    {
     "name": "stdout",
     "output_type": "stream",
     "text": [
      "0.612244897959\n"
     ]
    }
   ],
   "source": [
    "# calculate accuracy for predictions\n",
    "rf_accuracy = calculate_accuracy(actual_ratings, rf_predicted_ratings)\n",
    "print rf_accuracy"
   ]
  },
  {
   "cell_type": "code",
   "execution_count": 285,
   "metadata": {
    "collapsed": false
   },
   "outputs": [
    {
     "data": {
      "text/plain": [
       "KNeighborsClassifier(algorithm='auto', leaf_size=30, metric='minkowski',\n",
       "           metric_params=None, n_jobs=1, n_neighbors=11, p=2,\n",
       "           weights='uniform')"
      ]
     },
     "execution_count": 285,
     "metadata": {},
     "output_type": "execute_result"
    }
   ],
   "source": [
    "from sklearn.neighbors import KNeighborsClassifier\n",
    "neighbors = KNeighborsClassifier(n_neighbors=11)\n",
    "neighbors.fit(rated_train.iloc[:,2:], rated_train.iloc[:, 0])"
   ]
  },
  {
   "cell_type": "code",
   "execution_count": 286,
   "metadata": {
    "collapsed": true
   },
   "outputs": [],
   "source": [
    "knn_predictions = neighbors.predict(rated_validate.iloc[:,2:])\n",
    "knn_predicted_ratings = rating_categories(knn_predictions)"
   ]
  },
  {
   "cell_type": "code",
   "execution_count": 287,
   "metadata": {
    "collapsed": false
   },
   "outputs": [
    {
     "name": "stdout",
     "output_type": "stream",
     "text": [
      "0.591836734694\n"
     ]
    }
   ],
   "source": [
    "knn_accuracy = calculate_accuracy(actual_ratings, knn_predicted_ratings)\n",
    "print knn_accuracy"
   ]
  },
  {
   "cell_type": "markdown",
   "metadata": {},
   "source": [
    "# Getting data back into my database"
   ]
  },
  {
   "cell_type": "code",
   "execution_count": null,
   "metadata": {
    "collapsed": true
   },
   "outputs": [],
   "source": [
    "# save book_id with rating in a dictionary\n"
   ]
  },
  {
   "cell_type": "code",
   "execution_count": null,
   "metadata": {
    "collapsed": true
   },
   "outputs": [],
   "source": []
  },
  {
   "cell_type": "markdown",
   "metadata": {},
   "source": [
    "## Confusion Matrix"
   ]
  },
  {
   "cell_type": "code",
   "execution_count": null,
   "metadata": {
    "collapsed": true
   },
   "outputs": [],
   "source": []
  },
  {
   "cell_type": "code",
   "execution_count": null,
   "metadata": {
    "collapsed": true
   },
   "outputs": [],
   "source": []
  },
  {
   "cell_type": "markdown",
   "metadata": {
    "collapsed": false
   },
   "source": [
    "## NEXT STEPS"
   ]
  },
  {
   "cell_type": "code",
   "execution_count": null,
   "metadata": {
    "collapsed": true
   },
   "outputs": [],
   "source": [
    "# generic cross validation function\n",
    "def cross_validate(features, target, classifier, k_fold) :\n",
    "\n",
    "    # derive a set of (random) training and testing indices\n",
    "    k_fold_indices = KFold(len(features), n_folds=k_fold,\n",
    "                           shuffle=True, random_state=0)\n",
    "\n",
    "    k_score_total = 0\n",
    "    \n",
    "    # for each training and testing slices run the classifier, and score the results\n",
    "    for train_slice, test_slice in k_fold_indices :\n",
    "\n",
    "        model = classifier(features[train_slice],\n",
    "                           target[train_slice])\n",
    "\n",
    "        k_score = model.score(features[test_slice],\n",
    "                              target[test_slice])\n",
    "\n",
    "        k_score_total += k_score\n",
    "\n",
    "    # return the average accuracy\n",
    "    return k_score_total/k_fold"
   ]
  }
 ],
 "metadata": {
  "kernelspec": {
   "display_name": "Python 2",
   "language": "python",
   "name": "python2"
  },
  "language_info": {
   "codemirror_mode": {
    "name": "ipython",
    "version": 2
   },
   "file_extension": ".py",
   "mimetype": "text/x-python",
   "name": "python",
   "nbconvert_exporter": "python",
   "pygments_lexer": "ipython2",
   "version": "2.7.10"
  }
 },
 "nbformat": 4,
 "nbformat_minor": 0
}
